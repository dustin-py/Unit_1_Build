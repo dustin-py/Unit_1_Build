{
  "nbformat": 4,
  "nbformat_minor": 0,
  "metadata": {
    "colab": {
      "name": "Untitled3.ipynb",
      "provenance": [],
      "collapsed_sections": [],
      "machine_shape": "hm",
      "mount_file_id": "1S1Py8KFCspoBv734XBdzFtnHsuo21GDF",
      "authorship_tag": "ABX9TyN83E70QIDp6K9vC1IRvHkS",
      "include_colab_link": true
    },
    "kernelspec": {
      "name": "python3",
      "display_name": "Python 3"
    }
  },
  "cells": [
    {
      "cell_type": "markdown",
      "metadata": {
        "id": "view-in-github",
        "colab_type": "text"
      },
      "source": [
        "<a href=\"https://colab.research.google.com/github/dustin-py/Unit_1_Build/blob/master/Untitled3.ipynb\" target=\"_parent\"><img src=\"https://colab.research.google.com/assets/colab-badge.svg\" alt=\"Open In Colab\"/></a>"
      ]
    },
    {
      "cell_type": "markdown",
      "metadata": {
        "id": "leo4RkucR-y9",
        "colab_type": "text"
      },
      "source": [
        "## Ideas and Questions:\n",
        "\n",
        "- # map values to stringe {1.0:'strong disagree',}\n"
      ]
    },
    {
      "cell_type": "markdown",
      "metadata": {
        "id": "k-JbxjjXVQ78",
        "colab_type": "text"
      },
      "source": [
        "**Sources:**\n",
        "\n",
        "- https://sustainablesources.com/resources/country-abbreviations/\n",
        "- https://www.kaggle.com/tunguz/big-five-personality-test"
      ]
    },
    {
      "cell_type": "code",
      "metadata": {
        "id": "PZNX_Oqmtrzo",
        "colab_type": "code",
        "colab": {
          "base_uri": "https://localhost:8080/",
          "height": 34
        },
        "outputId": "ade2ac91-4516-4667-9421-a45740925c35"
      },
      "source": [
        "# Unzip the data set using bash:\n",
        "! "
      ],
      "execution_count": null,
      "outputs": [
        {
          "output_type": "stream",
          "text": [
            "/bin/bash: gopen: command not found\n"
          ],
          "name": "stdout"
        }
      ]
    },
    {
      "cell_type": "code",
      "metadata": {
        "id": "Y63SGeR5T71I",
        "colab_type": "code",
        "colab": {
          "base_uri": "https://localhost:8080/",
          "height": 373
        },
        "outputId": "97b630a3-f0a2-48f0-b393-39735ebf1e8f"
      },
      "source": [
        "# Imports:\n",
        "import pandas as pd\n",
        "import numpy as np\n",
        "import matplotlib.pyplot as plt\n",
        "from textblob import TextBlob\n",
        "import seaborn as sns\n",
        "from scipy.stats import ttest_1samp,ttest_ind,chi2_contingency\n",
        "\n",
        "\n",
        "# instantiate our dataframe by using pandas `pd.read_csv()` function to read in \n",
        "# the date stored in the csv file.\n",
        "df = pd.read_csv('/content/drive/My Drive/data-final.csv',sep='\\t')\n",
        "\n",
        "\n",
        "# Get rid of unnecessary columns, by instantiating a new dataframe so that we can \n",
        "# keep the original with out having to rerun the whole note book:\n",
        "big5 = df.drop(columns=['screenw','screenh','introelapse','endelapse',\n",
        "                        'lat_appx_lots_of_err','long_appx_lots_of_err']).copy()\n",
        "\n",
        "\n",
        "# A little further cleaning to remove the elapsed time spent on each question,\n",
        "# may refer back to those columns later, but for now they will be taken out:\n",
        "for attr in big5.columns:\n",
        "    if '_E' in attr:\n",
        "        big5.drop(columns=attr,inplace=True)\n",
        "\n",
        "\n",
        "# Now lets get rid of all the country values equal to 'NONE':    \n",
        "remove_none = big5.set_index('country')\n",
        "remove_none.drop(index='NONE',inplace=True)\n",
        "big5 = remove_none.reset_index()    \n",
        "\n",
        "\n",
        "# Only samples with 'IPC' == 1 in the big5 dataframe:\n",
        "big5 = big5[big5['IPC']==1]\n",
        "\n",
        "\n",
        "# Create a dictionary that holds the questions related to each of the columns, \n",
        "# because in this data we are using abbreviation based on the type of question.\n",
        "col_dic = {'EXT1'\t:\"I am the life of the party.\",\n",
        "           'EXT2'\t:\"I don't talk a lot.\",\n",
        "           'EXT3'\t:\"I feel comfortable around people.\",\n",
        "           'EXT4'\t:\"I keep in the background.\",\n",
        "           'EXT5'\t:\"I start conversations.\",\n",
        "           'EXT6'\t:\"I have little to say.\",\n",
        "           'EXT7'\t:\"I talk to a lot of different people at parties.\",\n",
        "           'EXT8'\t:\"I don't like to draw attention to myself.\",\n",
        "           'EXT9'\t:\"I don't mind being the center of attention.\",\n",
        "           'EXT10'\t:\"I am quiet around strangers.\",\n",
        "           'EST1'\t:\"I get stressed out easily.\",\n",
        "           'EST2'\t:\"I am relaxed most of the time.\",\n",
        "           'EST3'\t:\"I worry about things.\",\n",
        "           'EST4'\t:\"I seldom feel blue.\",\n",
        "           'EST5'\t:\"I am easily disturbed.\",\n",
        "           'EST6'\t:\"I get upset easily.\",\n",
        "           'EST7'\t:\"I change my mood a lot.\",\n",
        "           'EST8'\t:\"I have frequent mood swings.\",\n",
        "           'EST9'\t:\"I get irritated easily.\",\n",
        "           'EST10'\t:\"I often feel blue.\",\n",
        "           'AGR1'\t:\"I feel little concern for others.\",\n",
        "           'AGR2'\t:\"I am interested in people.\",\n",
        "           'AGR3'\t:\"I insult people.\",\n",
        "           'AGR4'\t:\"I sympathize with others' feelings.\",\n",
        "           'AGR5'\t:\"I am not interested in other people's problems.\",\n",
        "           'AGR6'\t:\"I have a soft heart.\",\n",
        "           'AGR7'\t:\"I am not really interested in others.\",\n",
        "           'AGR8'\t:\"I take time out for others.\",\n",
        "           'AGR9'\t:\"I feel others' emotions.\",\n",
        "           'AGR10'\t:\"I make people feel at ease.\",\n",
        "           'CSN1'\t:\"I am always prepared.\",\n",
        "           'CSN2'\t:\"I leave my belongings around.\",\n",
        "           'CSN3'\t:\"I pay attention to details.\",\n",
        "           'CSN4'\t:\"I make a mess of things.\",\n",
        "           'CSN5'\t:\"I get chores done right away.\",\n",
        "           'CSN6'\t:\"I often forget to put things back in their proper place.\",\n",
        "           'CSN7'\t:\"I like order.\",                                \n",
        "           'CSN8'\t:\"I shirk my duties.\",                                                   \n",
        "           'CSN9'\t:\"I follow a schedule.\",                                                   \n",
        "           'CSN10'\t:\"I am exacting in my work.\",\n",
        "           'OPN1'\t:\"I have a rich vocabulary.\",                                                \n",
        "           'OPN2'\t:\"I have difficulty understanding abstract ideas.\",                       \n",
        "           'OPN3'\t:\"I have a vivid imagination.\",                                             \n",
        "           'OPN4'\t:\"I am not interested in abstract ideas.\",                                \n",
        "           'OPN5'\t:\"I have excellent ideas.\",                                                 \n",
        "           'OPN6'\t:\"I do not have a good imagination.\",                                      \n",
        "           'OPN7'\t:\"I am quick to understand things.\",                                     \n",
        "           'OPN8'\t:\"I use difficult words.\",                                                  \n",
        "           'OPN9'\t:\"I spend time reflecting on things.\",                                 \n",
        "           'OPN10'\t:\"I am full of ideas.\"}          \n",
        "\n",
        "\n",
        "# Figure out the top 10 countrys, by top 10 im referring to the countrys that \n",
        "# yeild the most test results:\n",
        "top_10 = big5.country.value_counts()[:10]\n",
        "print(f'Countrys that have the most test results(top10): \\n\\n{top_10}\\n\\n')\n",
        "\n",
        "\n",
        "# Groups of the 10 countrys with the most results:\n",
        "us          = big5[big5['country']== 'US']\n",
        "gb_uk       = big5[big5['country']== 'GB']\n",
        "canada      = big5[big5['country']== 'CA']\n",
        "austrailia  = big5[big5['country']== 'AU']\n",
        "philippines = big5[big5['country']== 'PH']\n",
        "india       = big5[big5['country']== 'IN']\n",
        "germany     = big5[big5['country']== 'DE']\n",
        "new_zeland  = big5[big5['country']== 'NZ']\n",
        "norway      = big5[big5['country']== 'NO']\n",
        "malaysia    = big5[big5['country']== 'MY']\n",
        "\n",
        "# instantiate a dataframe of these 10 countries:\n",
        "country_df = pd.concat([us,gb_uk,canada,\n",
        "                        austrailia,philippines,\n",
        "                        india,germany,new_zeland,\n",
        "                        norway,malaysia])\n",
        "\n",
        "\n",
        "country_df['country_num'] = big5['country'].map({'US':1,'GB':2,'CA':3,\n",
        "                                                 'AU':4,'DE':5,'IN':6,\n",
        "                                                 'PH':7,'MX':8,'NO':9,\n",
        "                                                 'ML':10})\n",
        "\n",
        "\n",
        "\n",
        "# Groups of question categories:\n",
        "EXT = big5[[i for i in big5.columns if 'EXT' in i]]\n",
        "EST = big5[[i for i in big5.columns if 'EST' in i]]\n",
        "AGR = big5[[i for i in big5.columns if 'AGR' in i]]\n",
        "CSN = big5[[i for i in big5.columns if 'CSN' in i]]\n",
        "OPN = big5[[i for i in big5.columns if 'OPN' in i]]\n",
        "\n",
        "\n",
        "# Create lists of the sentemint analysis of each question/column then group them \n",
        "# based on that sentiment:\n",
        "def sentimentGrouping(dictionary):\n",
        "    '''\n",
        "    From a dictionary where the text are the values related to the keys, and\n",
        "    perform sentiment analysis on the test using TextBlob library.\n",
        "\n",
        "    Takes one parameter: dictionary={key:'value'}\n",
        "    '''\n",
        "    pos_obj = []\n",
        "    pos_subj = []\n",
        "    neg_obj = []\n",
        "    neg_subj = []\n",
        "    neutral = []\n",
        "    for item in dictionary:\n",
        "        blob = TextBlob(dictionary[item]).sentiment\n",
        "        # pos_obj:\n",
        "        if blob[0] > 0.0 and blob[1] <= 0.5:\n",
        "            pos_obj.append(item)\n",
        "        # pos_subj:\n",
        "        elif blob[0] > 0.0 and blob[1] >= 0.5:\n",
        "            pos_subj.append(item)\n",
        "        # neg_obj:\n",
        "        elif blob[0] < 0.0 and blob[1] <= 0.5:\n",
        "            neg_obj.append(item)\n",
        "        # neg_subj:\n",
        "        elif blob[0] < 0.0 and blob[1] >= 0.5:\n",
        "            neg_subj.append(item)\n",
        "        # neutral:\n",
        "        elif blob[0] == 0.0:\n",
        "            neutral.append(item)     \n",
        "    return pos_obj,pos_subj,neg_obj,neg_subj,neutral \n",
        "\n",
        "\n",
        "# use the sentiment grouping function created earlier in the notebook to create\n",
        "# lists of columns base on;\n",
        "'''\n",
        "   1. po = positive and objective\n",
        "   2. ps = positive and subjective\n",
        "   3. no = negative and objective\n",
        "   4. ns = negative and subjective\n",
        "   5. neu = neutral \n",
        "'''\n",
        "po,ps,no,ns,neu = sentimentGrouping(col_dic)\n",
        "\n",
        "\n",
        "# Examine the shape of the dataframe:\n",
        "print(f'Data Frame Shape: {big5.shape}\\n\\n')"
      ],
      "execution_count": 2,
      "outputs": [
        {
          "output_type": "stream",
          "text": [
            "/usr/local/lib/python3.6/dist-packages/statsmodels/tools/_testing.py:19: FutureWarning: pandas.util.testing is deprecated. Use the functions in the public API at pandas.testing instead.\n",
            "  import pandas.util.testing as tm\n"
          ],
          "name": "stderr"
        },
        {
          "output_type": "stream",
          "text": [
            "Countrys that have the most test results(top10): \n",
            "\n",
            "US    345443\n",
            "GB     49803\n",
            "CA     43843\n",
            "AU     34886\n",
            "DE     12327\n",
            "IN     12218\n",
            "PH     11136\n",
            "MX      9874\n",
            "NO      8941\n",
            "NL      7752\n",
            "Name: country, dtype: int64\n",
            "\n",
            "\n",
            "Data Frame Shape: (687231, 54)\n",
            "\n",
            "\n"
          ],
          "name": "stdout"
        }
      ]
    },
    {
      "cell_type": "code",
      "metadata": {
        "id": "lb5DrjU_Uv_p",
        "colab_type": "code",
        "colab": {
          "base_uri": "https://localhost:8080/",
          "height": 503
        },
        "outputId": "e764264c-6437-4713-f6f2-06bf1ac0b5dd"
      },
      "source": [
        "# Instantiate lists of the polarity of the sentiment of the question and \n",
        "# the subjectivity of the question:\n",
        "polarity = []\n",
        "subjectivity = []\n",
        "for text in col_dic:\n",
        "    blob = TextBlob(col_dic[text])\n",
        "    polarity.append(blob.sentiment[0])\n",
        "    subjectivity.append(blob.sentiment[1])\n",
        "\n",
        "\n",
        "# Sentiment data frame:                                          # USE THE FULL \n",
        "                                                                 # SENTIMENT \n",
        "                                                                 # ANALYSIS AND \n",
        "                                                                 # ADD THE \n",
        "                                                                 # SPECIFIC \n",
        "                                                                 # WORDS INTO \n",
        "                                                                 # THE CHARTS\n",
        "                                                                 # USING PLOTLY.\n",
        "sentiment_data = {'pol':polarity,'subj':subjectivity}\n",
        "sent_df = pd.DataFrame(sentiment_data)\n",
        "questions = []\n",
        "for n in range(10):\n",
        "    questions.append('ext')\n",
        "for n in range(10):\n",
        "    questions.append('est') \n",
        "for n in range(10):\n",
        "    questions.append('agr')\n",
        "for n in range(10):\n",
        "    questions.append('csn')\n",
        "for n in range(10):\n",
        "    questions.append('opn')      \n",
        "quest_ser = pd.Series(questions)                           \n",
        "sent_df['types'] = quest_ser.values\n",
        "\n",
        "sent_df.plot.bar(figsize=(15,8))"
      ],
      "execution_count": 3,
      "outputs": [
        {
          "output_type": "execute_result",
          "data": {
            "text/plain": [
              "<matplotlib.axes._subplots.AxesSubplot at 0x7f56dea97c50>"
            ]
          },
          "metadata": {
            "tags": []
          },
          "execution_count": 3
        },
        {
          "output_type": "display_data",
          "data": {
            "image/png": "[encoded data removed]",
            "text/plain": [
              "<Figure size 1080x576 with 1 Axes>"
            ]
          },
          "metadata": {
            "tags": [],
            "needs_background": "light"
          }
        }
      ]
    },
    {
      "cell_type": "code",
      "metadata": {
        "id": "LrtuPxg-bN2l",
        "colab_type": "code",
        "colab": {}
      },
      "source": [
        "def country_sentiment_means(country_dataframe, sentiment_columns_list):\n",
        "    means_dict = {}\n",
        "    for c in country_dataframe[sentiment_columns_list].columns:\n",
        "        means_dict[c] = country_dataframe[c].mean()\n",
        "    return means_dict    "
      ],
      "execution_count": 55,
      "outputs": []
    },
    {
      "cell_type": "code",
      "metadata": {
        "id": "amVZlNfrikKT",
        "colab_type": "code",
        "colab": {}
      },
      "source": [
        "us_means = country_sentiment_means(us,ps)\n",
        "gb_uk_means = country_sentiment_means(gb_uk,ps)\n",
        "canada_means = country_sentiment_means(canada,ps)"
      ],
      "execution_count": 63,
      "outputs": []
    },
    {
      "cell_type": "code",
      "metadata": {
        "id": "ld4o2FCCikMx",
        "colab_type": "code",
        "colab": {
          "base_uri": "https://localhost:8080/",
          "height": 202
        },
        "outputId": "c73243ed-8381-4c8d-ae5f-8eb34af18f53"
      },
      "source": [
        "us_means"
      ],
      "execution_count": 64,
      "outputs": [
        {
          "output_type": "execute_result",
          "data": {
            "text/plain": [
              "{'CSN5': 2.5902844747946006,\n",
              " 'EST1': 3.341720170401068,\n",
              " 'EST5': 2.693173821252639,\n",
              " 'EST6': 2.7900597446300783,\n",
              " 'EST9': 3.069675039023698,\n",
              " 'EXT3': 3.2759084050819136,\n",
              " 'OPN1': 3.7241784751363296,\n",
              " 'OPN10': 4.032933394728688,\n",
              " 'OPN3': 4.0354123769558905,\n",
              " 'OPN5': 3.8629522477360463,\n",
              " 'OPN6': 1.8645682197953681}"
            ]
          },
          "metadata": {
            "tags": []
          },
          "execution_count": 64
        }
      ]
    },
    {
      "cell_type": "code",
      "metadata": {
        "id": "MdNxNHUFD1tg",
        "colab_type": "code",
        "colab": {
          "base_uri": "https://localhost:8080/",
          "height": 202
        },
        "outputId": "c1dd6f10-ea4b-40ef-c93f-332686f592e5"
      },
      "source": [
        "gb_uk_means"
      ],
      "execution_count": 65,
      "outputs": [
        {
          "output_type": "execute_result",
          "data": {
            "text/plain": [
              "{'CSN5': 2.362142067718276,\n",
              " 'EST1': 3.2909474530292373,\n",
              " 'EST5': 3.03120667135537,\n",
              " 'EST6': 2.898985230583744,\n",
              " 'EST9': 3.3031447804682004,\n",
              " 'EXT3': 3.164573495428514,\n",
              " 'OPN1': 3.8782276700492315,\n",
              " 'OPN10': 3.893278408520044,\n",
              " 'OPN3': 4.029759871395559,\n",
              " 'OPN5': 3.7136541746207175,\n",
              " 'OPN6': 1.9102582136039385}"
            ]
          },
          "metadata": {
            "tags": []
          },
          "execution_count": 65
        }
      ]
    },
    {
      "cell_type": "code",
      "metadata": {
        "id": "Y9_iUQ72D1ql",
        "colab_type": "code",
        "colab": {
          "base_uri": "https://localhost:8080/",
          "height": 202
        },
        "outputId": "473f461b-6dd0-4ee9-8ab8-f320fe70d04d"
      },
      "source": [
        "canada_means"
      ],
      "execution_count": 66,
      "outputs": [
        {
          "output_type": "execute_result",
          "data": {
            "text/plain": [
              "{'CSN5': 2.5313191702987017,\n",
              " 'EST1': 3.307852041165598,\n",
              " 'EST5': 2.775642927229993,\n",
              " 'EST6': 2.8223991967688202,\n",
              " 'EST9': 3.0845446455057846,\n",
              " 'EXT3': 3.235789425644068,\n",
              " 'OPN1': 3.7559957100152888,\n",
              " 'OPN10': 4.006503434269676,\n",
              " 'OPN3': 4.042717294571344,\n",
              " 'OPN5': 3.843735024986879,\n",
              " 'OPN6': 1.8675809506423569}"
            ]
          },
          "metadata": {
            "tags": []
          },
          "execution_count": 66
        }
      ]
    },
    {
      "cell_type": "code",
      "metadata": {
        "id": "SrXv2ITgikSO",
        "colab_type": "code",
        "colab": {}
      },
      "source": [
        ""
      ],
      "execution_count": null,
      "outputs": []
    },
    {
      "cell_type": "code",
      "metadata": {
        "id": "wWk-uv_ljnuy",
        "colab_type": "code",
        "colab": {}
      },
      "source": [
        ""
      ],
      "execution_count": null,
      "outputs": []
    },
    {
      "cell_type": "markdown",
      "metadata": {
        "id": "Tim8iNnUSe5n",
        "colab_type": "text"
      },
      "source": [
        "## 1. How do these questions play on human emotion?\n",
        "## 2. What are some base personalities we can draw from basic personality quizes?\n",
        "## 3. Do diffirent countries have different overall personality traits?"
      ]
    },
    {
      "cell_type": "code",
      "metadata": {
        "id": "jEjSbmEsUHpg",
        "colab_type": "code",
        "colab": {}
      },
      "source": [
        ""
      ],
      "execution_count": null,
      "outputs": []
    },
    {
      "cell_type": "code",
      "metadata": {
        "id": "z05Yug7NTqej",
        "colab_type": "code",
        "colab": {}
      },
      "source": [
        "# means of the question answers:\n",
        "results_means = [\n",
        "            EXT.mean(),\n",
        "            EST.mean(),\n",
        "            AGR.mean(),\n",
        "            CSN.mean(),\n",
        "            OPN.mean(),\n",
        "]\n",
        "\n",
        "# Graph these findings:\n",
        "fig, axs = plt.subplots(5,figsize=(8,16))\n",
        "fig.suptitle('Vertically stacked subplots')\n",
        "for num in range(0,len(results_means)):\n",
        "    axs[num].plot(results_means[num]"
      ],
      "execution_count": null,
      "outputs": []
    },
    {
      "cell_type": "code",
      "metadata": {
        "id": "vqXDO5LIikHd",
        "colab_type": "code",
        "colab": {}
      },
      "source": [
        "answer_map_dic = {1.0:'sd',2.0:'d',3.0:'n',4.0:'a',5.0:'sa'}\n",
        "\n",
        "def value_mapper(dataframe,dictionary,slicerange=[0,-1]):\n",
        "    cols = dataframe.columns[slicerange[0]:\n",
        "                             slicerange[1]]\n",
        "    new_df = pd.DataFrame(None)\n",
        "    for c in cols:\n",
        "        new_df[c] = dataframe[c].map(dictionary)\n",
        "    return new_df    \n",
        "\n",
        "ext = value_mapper(EXT,answer_map_dic,[0,11])\n",
        "est = value_mapper(EST,answer_map_dic,[0,11])\n",
        "agr = value_mapper(AGR,answer_map_dic,[0,11])\n",
        "csn = value_mapper(CSN,answer_map_dic,[0,11])\n",
        "opn = value_mapper(OPN,answer_map_dic,[0,11]) "
      ],
      "execution_count": null,
      "outputs": []
    }
  ]
}